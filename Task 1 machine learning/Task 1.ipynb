{
 "cells": [
  {
   "cell_type": "code",
   "execution_count": 1,
   "id": "eda46398",
   "metadata": {},
   "outputs": [],
   "source": [
    "#import required libraries\n",
    "import scipy.io\n",
    "import numpy as np\n",
    "from sklearn.metrics import accuracy_score\n",
    "from sklearn.metrics import f1_score"
   ]
  },
  {
   "cell_type": "code",
   "execution_count": 2,
   "id": "faec5936",
   "metadata": {},
   "outputs": [],
   "source": [
    "# load data given\n",
    "train_data = scipy.io.loadmat('train.mat')  \n",
    "validation_data = scipy.io.loadmat('val.mat')\n",
    "test_data = scipy.io.loadmat('test.mat')"
   ]
  },
  {
   "cell_type": "code",
   "execution_count": 3,
   "id": "de3b56c8",
   "metadata": {},
   "outputs": [
    {
     "name": "stdout",
     "output_type": "stream",
     "text": [
      "train set (1077, 64) (1077, 1)\n",
      "Validation set (360, 64) (360, 1)\n",
      "test set (360, 64) (360, 1)\n"
     ]
    }
   ],
   "source": [
    "# Separe features from label\n",
    "X_train = train_data['features']\n",
    "y_train = train_data['label'].reshape((1077,1))\n",
    "print(\"train set\",X_train.shape,y_train.shape)\n",
    "X_validation = validation_data['features']\n",
    "y_validation = validation_data['label'].reshape((360,1))\n",
    "print(\"Validation set\",X_validation.shape,y_validation.shape)\n",
    "X_test = test_data['features']\n",
    "y_test = test_data['label'].reshape((360,1))\n",
    "print(\"test set\",X_test.shape,y_test.shape)"
   ]
  },
  {
   "cell_type": "code",
   "execution_count": 4,
   "id": "79c50e41",
   "metadata": {},
   "outputs": [
    {
     "data": {
      "text/plain": [
       "numpy.ndarray"
      ]
     },
     "execution_count": 4,
     "metadata": {},
     "output_type": "execute_result"
    }
   ],
   "source": [
    "type(y_train)"
   ]
  },
  {
   "cell_type": "markdown",
   "id": "c8aa7b6d",
   "metadata": {},
   "source": [
    "### Decision Tree Classifier "
   ]
  },
  {
   "cell_type": "code",
   "execution_count": 5,
   "id": "562a5491",
   "metadata": {},
   "outputs": [],
   "source": [
    "from sklearn.tree import DecisionTreeClassifier"
   ]
  },
  {
   "cell_type": "code",
   "execution_count": 6,
   "id": "4e6c079f",
   "metadata": {},
   "outputs": [],
   "source": [
    "classifier1 = DecisionTreeClassifier(max_depth = 12 , random_state = 0)\n",
    "classifier1 = classifier1.fit(X_train,y_train)"
   ]
  },
  {
   "cell_type": "code",
   "execution_count": 7,
   "id": "383a8ed1",
   "metadata": {},
   "outputs": [
    {
     "name": "stdout",
     "output_type": "stream",
     "text": [
      "Accuracy Score =  0.8\n",
      "F1 Score =  0.8000000000000002\n"
     ]
    }
   ],
   "source": [
    "y_pred = classifier1.predict(X_validation)\n",
    "print(\"Accuracy Score = \",accuracy_score(y_validation, y_pred))\n",
    "print(\"F1 Score = \",f1_score(y_validation, y_pred , average='micro'))"
   ]
  },
  {
   "cell_type": "code",
   "execution_count": 8,
   "id": "a940096d",
   "metadata": {},
   "outputs": [
    {
     "name": "stdout",
     "output_type": "stream",
     "text": [
      "Accuracy Score =  0.8277777777777777\n",
      "F1 Score =  0.8277777777777777\n"
     ]
    }
   ],
   "source": [
    "y_pred = classifier1.predict(X_test)\n",
    "print(\"Accuracy Score = \",accuracy_score(y_test, y_pred))\n",
    "print(\"F1 Score = \",f1_score(y_test, y_pred, average='micro'))"
   ]
  },
  {
   "cell_type": "markdown",
   "id": "26b756fa",
   "metadata": {},
   "source": [
    "### K_NN "
   ]
  },
  {
   "cell_type": "code",
   "execution_count": 9,
   "id": "e6ff3bcc",
   "metadata": {},
   "outputs": [
    {
     "name": "stderr",
     "output_type": "stream",
     "text": [
      "C:\\Users\\lenovo\\anaconda3\\lib\\site-packages\\sklearn\\neighbors\\_classification.py:198: DataConversionWarning: A column-vector y was passed when a 1d array was expected. Please change the shape of y to (n_samples,), for example using ravel().\n",
      "  return self._fit(X, y)\n"
     ]
    },
    {
     "data": {
      "text/plain": [
       "KNeighborsClassifier(n_neighbors=3)"
      ]
     },
     "execution_count": 9,
     "metadata": {},
     "output_type": "execute_result"
    }
   ],
   "source": [
    "from sklearn.neighbors import KNeighborsClassifier\n",
    "classifier2= KNeighborsClassifier(n_neighbors=3)\n",
    "classifier2.fit(X_train, y_train)"
   ]
  },
  {
   "cell_type": "code",
   "execution_count": 10,
   "id": "bdfea93d",
   "metadata": {},
   "outputs": [
    {
     "name": "stdout",
     "output_type": "stream",
     "text": [
      "Accuracy Score =  0.9861111111111112\n",
      "F1 Score =  0.9861111111111112\n"
     ]
    }
   ],
   "source": [
    "y_pred = classifier2.predict(X_validation)\n",
    "print(\"Accuracy Score = \",accuracy_score(y_validation, y_pred))\n",
    "print(\"F1 Score = \",f1_score(y_validation, y_pred,average='micro'))"
   ]
  },
  {
   "cell_type": "code",
   "execution_count": 11,
   "id": "f6c840dd",
   "metadata": {},
   "outputs": [
    {
     "name": "stdout",
     "output_type": "stream",
     "text": [
      "Accuracy Score =  0.9805555555555555\n",
      "F1 Score =  0.9805555555555555\n"
     ]
    }
   ],
   "source": [
    "y_pred = classifier2.predict(X_test)\n",
    "print(\"Accuracy Score = \",accuracy_score(y_test, y_pred))\n",
    "print(\"F1 Score = \",f1_score(y_test, y_pred,average='micro'))"
   ]
  },
  {
   "cell_type": "markdown",
   "id": "afcf6e34",
   "metadata": {},
   "source": [
    "### Logistic Classifier"
   ]
  },
  {
   "cell_type": "code",
   "execution_count": 21,
   "id": "b8898a96",
   "metadata": {},
   "outputs": [
    {
     "name": "stderr",
     "output_type": "stream",
     "text": [
      "C:\\Users\\lenovo\\anaconda3\\lib\\site-packages\\sklearn\\utils\\validation.py:993: DataConversionWarning: A column-vector y was passed when a 1d array was expected. Please change the shape of y to (n_samples, ), for example using ravel().\n",
      "  y = column_or_1d(y, warn=True)\n"
     ]
    },
    {
     "data": {
      "text/plain": [
       "LogisticRegression(solver='newton-cg')"
      ]
     },
     "execution_count": 21,
     "metadata": {},
     "output_type": "execute_result"
    }
   ],
   "source": [
    "from sklearn.linear_model import LogisticRegression\n",
    "classifier3 = LogisticRegression(solver = 'newton-cg', penalty = 'l2')\n",
    "#solvers = ['newton-cg', 'lbfgs', 'liblinear']\n",
    "#penalty = ['l2']\n",
    "#c_values = [100, 10, 1.0, 0.1, 0.01]\n",
    "classifier3.fit(X_train, y_train)"
   ]
  },
  {
   "cell_type": "code",
   "execution_count": 22,
   "id": "4ddc5ca7",
   "metadata": {},
   "outputs": [
    {
     "name": "stdout",
     "output_type": "stream",
     "text": [
      "Accuracy Score =  0.9666666666666667\n",
      "F1 Score =  0.9666666666666667\n"
     ]
    }
   ],
   "source": [
    "y_pred = classifier3.predict(X_validation)\n",
    "print(\"Accuracy Score = \",accuracy_score(y_validation, y_pred))\n",
    "print(\"F1 Score = \",f1_score(y_validation, y_pred,average='micro'))"
   ]
  },
  {
   "cell_type": "code",
   "execution_count": 23,
   "id": "b812dba0",
   "metadata": {},
   "outputs": [
    {
     "name": "stdout",
     "output_type": "stream",
     "text": [
      "Accuracy Score =  0.9638888888888889\n",
      "F1 Score =  0.9638888888888889\n"
     ]
    }
   ],
   "source": [
    "y_pred = classifier3.predict(X_test)\n",
    "print(\"Accuracy Score = \",accuracy_score(y_test, y_pred))\n",
    "print(\"F1 Score = \",f1_score(y_test, y_pred,average='micro'))"
   ]
  },
  {
   "cell_type": "markdown",
   "id": "f59187ae",
   "metadata": {},
   "source": [
    "# if the required accuracy is 95%, K_NN and Logistic Algorithms will be valid, but decision tree will be invalid"
   ]
  }
 ],
 "metadata": {
  "kernelspec": {
   "display_name": "Python 3 (ipykernel)",
   "language": "python",
   "name": "python3"
  },
  "language_info": {
   "codemirror_mode": {
    "name": "ipython",
    "version": 3
   },
   "file_extension": ".py",
   "mimetype": "text/x-python",
   "name": "python",
   "nbconvert_exporter": "python",
   "pygments_lexer": "ipython3",
   "version": "3.9.12"
  }
 },
 "nbformat": 4,
 "nbformat_minor": 5
}
