{
 "cells": [
  {
   "cell_type": "code",
   "execution_count": 1,
   "id": "e37fdedc",
   "metadata": {},
   "outputs": [
    {
     "data": {
      "text/html": [
       "<div>\n",
       "<style scoped>\n",
       "    .dataframe tbody tr th:only-of-type {\n",
       "        vertical-align: middle;\n",
       "    }\n",
       "\n",
       "    .dataframe tbody tr th {\n",
       "        vertical-align: top;\n",
       "    }\n",
       "\n",
       "    .dataframe thead th {\n",
       "        text-align: right;\n",
       "    }\n",
       "</style>\n",
       "<table border=\"1\" class=\"dataframe\">\n",
       "  <thead>\n",
       "    <tr style=\"text-align: right;\">\n",
       "      <th></th>\n",
       "      <th>age</th>\n",
       "      <th>sex</th>\n",
       "      <th>bmi body mass index</th>\n",
       "      <th>average blood pressure</th>\n",
       "      <th>total serum cholesterol</th>\n",
       "      <th>low-density lipoproteins</th>\n",
       "      <th>high-density lipoproteins</th>\n",
       "      <th>total cholesterol</th>\n",
       "      <th>serum triglycerides levelglu</th>\n",
       "      <th>blood sugar level</th>\n",
       "      <th>disease_progression</th>\n",
       "    </tr>\n",
       "  </thead>\n",
       "  <tbody>\n",
       "    <tr>\n",
       "      <th>0</th>\n",
       "      <td>0.038076</td>\n",
       "      <td>0.050680</td>\n",
       "      <td>0.061696</td>\n",
       "      <td>0.021872</td>\n",
       "      <td>-0.044223</td>\n",
       "      <td>-0.034821</td>\n",
       "      <td>-0.043401</td>\n",
       "      <td>-0.002592</td>\n",
       "      <td>0.019908</td>\n",
       "      <td>-0.017646</td>\n",
       "      <td>151.0</td>\n",
       "    </tr>\n",
       "    <tr>\n",
       "      <th>1</th>\n",
       "      <td>-0.001882</td>\n",
       "      <td>-0.044642</td>\n",
       "      <td>-0.051474</td>\n",
       "      <td>-0.026328</td>\n",
       "      <td>-0.008449</td>\n",
       "      <td>-0.019163</td>\n",
       "      <td>0.074412</td>\n",
       "      <td>-0.039493</td>\n",
       "      <td>-0.068330</td>\n",
       "      <td>-0.092204</td>\n",
       "      <td>75.0</td>\n",
       "    </tr>\n",
       "    <tr>\n",
       "      <th>2</th>\n",
       "      <td>0.085299</td>\n",
       "      <td>0.050680</td>\n",
       "      <td>0.044451</td>\n",
       "      <td>-0.005671</td>\n",
       "      <td>-0.045599</td>\n",
       "      <td>-0.034194</td>\n",
       "      <td>-0.032356</td>\n",
       "      <td>-0.002592</td>\n",
       "      <td>0.002864</td>\n",
       "      <td>-0.025930</td>\n",
       "      <td>141.0</td>\n",
       "    </tr>\n",
       "    <tr>\n",
       "      <th>3</th>\n",
       "      <td>-0.089063</td>\n",
       "      <td>-0.044642</td>\n",
       "      <td>-0.011595</td>\n",
       "      <td>-0.036656</td>\n",
       "      <td>0.012191</td>\n",
       "      <td>0.024991</td>\n",
       "      <td>-0.036038</td>\n",
       "      <td>0.034309</td>\n",
       "      <td>0.022692</td>\n",
       "      <td>-0.009362</td>\n",
       "      <td>206.0</td>\n",
       "    </tr>\n",
       "    <tr>\n",
       "      <th>4</th>\n",
       "      <td>0.005383</td>\n",
       "      <td>-0.044642</td>\n",
       "      <td>-0.036385</td>\n",
       "      <td>0.021872</td>\n",
       "      <td>0.003935</td>\n",
       "      <td>0.015596</td>\n",
       "      <td>0.008142</td>\n",
       "      <td>-0.002592</td>\n",
       "      <td>-0.031991</td>\n",
       "      <td>-0.046641</td>\n",
       "      <td>135.0</td>\n",
       "    </tr>\n",
       "    <tr>\n",
       "      <th>...</th>\n",
       "      <td>...</td>\n",
       "      <td>...</td>\n",
       "      <td>...</td>\n",
       "      <td>...</td>\n",
       "      <td>...</td>\n",
       "      <td>...</td>\n",
       "      <td>...</td>\n",
       "      <td>...</td>\n",
       "      <td>...</td>\n",
       "      <td>...</td>\n",
       "      <td>...</td>\n",
       "    </tr>\n",
       "    <tr>\n",
       "      <th>437</th>\n",
       "      <td>0.041708</td>\n",
       "      <td>0.050680</td>\n",
       "      <td>0.019662</td>\n",
       "      <td>0.059744</td>\n",
       "      <td>-0.005697</td>\n",
       "      <td>-0.002566</td>\n",
       "      <td>-0.028674</td>\n",
       "      <td>-0.002592</td>\n",
       "      <td>0.031193</td>\n",
       "      <td>0.007207</td>\n",
       "      <td>178.0</td>\n",
       "    </tr>\n",
       "    <tr>\n",
       "      <th>438</th>\n",
       "      <td>-0.005515</td>\n",
       "      <td>0.050680</td>\n",
       "      <td>-0.015906</td>\n",
       "      <td>-0.067642</td>\n",
       "      <td>0.049341</td>\n",
       "      <td>0.079165</td>\n",
       "      <td>-0.028674</td>\n",
       "      <td>0.034309</td>\n",
       "      <td>-0.018118</td>\n",
       "      <td>0.044485</td>\n",
       "      <td>104.0</td>\n",
       "    </tr>\n",
       "    <tr>\n",
       "      <th>439</th>\n",
       "      <td>0.041708</td>\n",
       "      <td>0.050680</td>\n",
       "      <td>-0.015906</td>\n",
       "      <td>0.017282</td>\n",
       "      <td>-0.037344</td>\n",
       "      <td>-0.013840</td>\n",
       "      <td>-0.024993</td>\n",
       "      <td>-0.011080</td>\n",
       "      <td>-0.046879</td>\n",
       "      <td>0.015491</td>\n",
       "      <td>132.0</td>\n",
       "    </tr>\n",
       "    <tr>\n",
       "      <th>440</th>\n",
       "      <td>-0.045472</td>\n",
       "      <td>-0.044642</td>\n",
       "      <td>0.039062</td>\n",
       "      <td>0.001215</td>\n",
       "      <td>0.016318</td>\n",
       "      <td>0.015283</td>\n",
       "      <td>-0.028674</td>\n",
       "      <td>0.026560</td>\n",
       "      <td>0.044528</td>\n",
       "      <td>-0.025930</td>\n",
       "      <td>220.0</td>\n",
       "    </tr>\n",
       "    <tr>\n",
       "      <th>441</th>\n",
       "      <td>-0.045472</td>\n",
       "      <td>-0.044642</td>\n",
       "      <td>-0.073030</td>\n",
       "      <td>-0.081414</td>\n",
       "      <td>0.083740</td>\n",
       "      <td>0.027809</td>\n",
       "      <td>0.173816</td>\n",
       "      <td>-0.039493</td>\n",
       "      <td>-0.004220</td>\n",
       "      <td>0.003064</td>\n",
       "      <td>57.0</td>\n",
       "    </tr>\n",
       "  </tbody>\n",
       "</table>\n",
       "<p>442 rows × 11 columns</p>\n",
       "</div>"
      ],
      "text/plain": [
       "          age       sex  bmi body mass index  average blood pressure  \\\n",
       "0    0.038076  0.050680             0.061696                0.021872   \n",
       "1   -0.001882 -0.044642            -0.051474               -0.026328   \n",
       "2    0.085299  0.050680             0.044451               -0.005671   \n",
       "3   -0.089063 -0.044642            -0.011595               -0.036656   \n",
       "4    0.005383 -0.044642            -0.036385                0.021872   \n",
       "..        ...       ...                  ...                     ...   \n",
       "437  0.041708  0.050680             0.019662                0.059744   \n",
       "438 -0.005515  0.050680            -0.015906               -0.067642   \n",
       "439  0.041708  0.050680            -0.015906                0.017282   \n",
       "440 -0.045472 -0.044642             0.039062                0.001215   \n",
       "441 -0.045472 -0.044642            -0.073030               -0.081414   \n",
       "\n",
       "     total serum cholesterol  low-density lipoproteins  \\\n",
       "0                  -0.044223                 -0.034821   \n",
       "1                  -0.008449                 -0.019163   \n",
       "2                  -0.045599                 -0.034194   \n",
       "3                   0.012191                  0.024991   \n",
       "4                   0.003935                  0.015596   \n",
       "..                       ...                       ...   \n",
       "437                -0.005697                 -0.002566   \n",
       "438                 0.049341                  0.079165   \n",
       "439                -0.037344                 -0.013840   \n",
       "440                 0.016318                  0.015283   \n",
       "441                 0.083740                  0.027809   \n",
       "\n",
       "     high-density lipoproteins  total cholesterol  \\\n",
       "0                    -0.043401          -0.002592   \n",
       "1                     0.074412          -0.039493   \n",
       "2                    -0.032356          -0.002592   \n",
       "3                    -0.036038           0.034309   \n",
       "4                     0.008142          -0.002592   \n",
       "..                         ...                ...   \n",
       "437                  -0.028674          -0.002592   \n",
       "438                  -0.028674           0.034309   \n",
       "439                  -0.024993          -0.011080   \n",
       "440                  -0.028674           0.026560   \n",
       "441                   0.173816          -0.039493   \n",
       "\n",
       "     serum triglycerides levelglu  blood sugar level  disease_progression  \n",
       "0                        0.019908          -0.017646                151.0  \n",
       "1                       -0.068330          -0.092204                 75.0  \n",
       "2                        0.002864          -0.025930                141.0  \n",
       "3                        0.022692          -0.009362                206.0  \n",
       "4                       -0.031991          -0.046641                135.0  \n",
       "..                            ...                ...                  ...  \n",
       "437                      0.031193           0.007207                178.0  \n",
       "438                     -0.018118           0.044485                104.0  \n",
       "439                     -0.046879           0.015491                132.0  \n",
       "440                      0.044528          -0.025930                220.0  \n",
       "441                     -0.004220           0.003064                 57.0  \n",
       "\n",
       "[442 rows x 11 columns]"
      ]
     },
     "execution_count": 1,
     "metadata": {},
     "output_type": "execute_result"
    }
   ],
   "source": [
    "import numpy as np\n",
    "import pandas as pd\n",
    "import matplotlib.pyplot as plt\n",
    "import pickle\n",
    "with open('dataset.pkl', 'rb') as f:\n",
    "    data = pickle.load(f)  \n",
    "data   # Pandas Data Series"
   ]
  },
  {
   "cell_type": "code",
   "execution_count": 2,
   "id": "bee80b64",
   "metadata": {},
   "outputs": [
    {
     "data": {
      "text/plain": [
       "0"
      ]
     },
     "execution_count": 2,
     "metadata": {},
     "output_type": "execute_result"
    }
   ],
   "source": [
    "data.isnull().sum().sum()    # Check For Nan"
   ]
  },
  {
   "cell_type": "code",
   "execution_count": 3,
   "id": "05624618",
   "metadata": {},
   "outputs": [],
   "source": [
    "# Separate Features from Labels\n",
    "y = data['disease_progression']  # Pandas data Series\n",
    "X = data.drop('disease_progression',axis = 1) # Pandas data Frame "
   ]
  },
  {
   "cell_type": "code",
   "execution_count": 4,
   "id": "d10a86df",
   "metadata": {},
   "outputs": [],
   "source": [
    "from sklearn.model_selection import train_test_split\n",
    "X_train, X_test, y_train, y_test = train_test_split(X,y,test_size=0.2,random_state=42)"
   ]
  },
  {
   "cell_type": "markdown",
   "id": "25167301",
   "metadata": {},
   "source": [
    "# Decision Tree Regression Using Learning Curves And Grid Search"
   ]
  },
  {
   "cell_type": "code",
   "execution_count": 5,
   "id": "fd265d06",
   "metadata": {},
   "outputs": [],
   "source": [
    "from sklearn.model_selection import learning_curve\n",
    "from sklearn.model_selection import GridSearchCV \n",
    "from sklearn.model_selection import ShuffleSplit\n",
    "from sklearn.metrics import precision_score\n",
    "from sklearn.metrics import accuracy_score\n",
    "from sklearn.metrics import recall_score\n",
    "from sklearn.metrics import fbeta_score\n",
    "from sklearn.metrics import make_scorer\n",
    "from sklearn.metrics import f1_score\n",
    "from sklearn.metrics import r2_score\n",
    "\n",
    "def draw_learning_curves(X, y, estimator, num_trainings):\n",
    "    cv1 = ShuffleSplit(n_splits=10, random_state=0, test_size=0.2, train_size=None)\n",
    "    train_sizes, train_scores, test_scores = learning_curve(\n",
    "        estimator, X, y, cv=cv1, n_jobs=1, train_sizes=np.linspace(.1, 1.0, num_trainings),scoring = 'r2') #according to r2 score\n",
    "    \n",
    "    print(\"train size :\\n\",train_sizes)\n",
    "    print()\n",
    "    train_scores_mean = np.mean(train_scores, axis=1)\n",
    "    print(\"train score mean:\\n\",train_scores_mean)\n",
    "    print()\n",
    "    #train_scores_std = np.std(train_scores, axis=1)\n",
    "    test_scores_mean = np.mean(test_scores, axis=1)\n",
    "    #test_scores_std = np.std(test_scores, axis=1)\n",
    "\n",
    "    plt.grid();\n",
    "\n",
    "    plt.title(\"Learning Curves\");\n",
    "    plt.xlabel(\"Training examples\");\n",
    "    plt.ylabel(\"Score\");\n",
    "\n",
    "    plt.plot(train_sizes,train_scores_mean, 'o-', color=\"g\",\n",
    "             label=\"Training score\");\n",
    "    plt.plot(train_sizes,test_scores_mean, 'o-', color=\"y\",\n",
    "             label=\"Cross-validation score\");\n",
    "    plt.legend(loc=\"best\");"
   ]
  },
  {
   "cell_type": "code",
   "execution_count": 6,
   "id": "b6f25a92",
   "metadata": {},
   "outputs": [
    {
     "name": "stdout",
     "output_type": "stream",
     "text": [
      "train size :\n",
      " [ 35  70 105 141 176 211 247 282 317 353]\n",
      "\n",
      "train score mean:\n",
      " [0.99997572 0.9976235  0.99836473 0.99635572 0.98744307 0.98779772\n",
      " 0.970972   0.96971865 0.96831818 0.96733286]\n",
      "\n"
     ]
    },
    {
     "data": {
      "image/png": "[encoded data removed]",
      "text/plain": [
       "<Figure size 432x288 with 1 Axes>"
      ]
     },
     "metadata": {
      "needs_background": "light"
     },
     "output_type": "display_data"
    }
   ],
   "source": [
    "from sklearn.tree import DecisionTreeRegressor\n",
    "estimator = DecisionTreeRegressor(max_depth = 10 , random_state = 0 ) # Change the max_depth Value\n",
    "draw_learning_curves(X,y,estimator,10)"
   ]
  },
  {
   "cell_type": "markdown",
   "id": "91fb1edf",
   "metadata": {},
   "source": [
    "# The Max depth = 10 is so bad so we do grid search to estimate the best value"
   ]
  },
  {
   "cell_type": "code",
   "execution_count": 7,
   "id": "8874dc9c",
   "metadata": {},
   "outputs": [],
   "source": [
    "def fit_model(X, y):\n",
    "    cv_sets = ShuffleSplit(n_splits = 10, test_size = 0.20, random_state = 0)\n",
    "    clf = DecisionTreeRegressor(random_state = 0)\n",
    "    params = {'max_depth' : [1,2,3,4,5,6,7,8,9,10]}\n",
    "    scoring_fnc = make_scorer(r2_score)\n",
    "    grid = GridSearchCV(clf, params, scoring = scoring_fnc,cv = cv_sets)\n",
    "    grid = grid.fit(X, y)\n",
    "    return grid.best_estimator_"
   ]
  },
  {
   "cell_type": "code",
   "execution_count": 8,
   "id": "2fc71308",
   "metadata": {},
   "outputs": [
    {
     "name": "stdout",
     "output_type": "stream",
     "text": [
      "Parameter 'max_depth' is 2 for the optimal model.\n"
     ]
    }
   ],
   "source": [
    "regressor1 = fit_model(X_train, y_train)\n",
    "print(\"Parameter 'max_depth' is {} for the optimal model.\".format(regressor1.get_params()['max_depth']))"
   ]
  },
  {
   "cell_type": "code",
   "execution_count": 9,
   "id": "e026b07c",
   "metadata": {},
   "outputs": [
    {
     "name": "stdout",
     "output_type": "stream",
     "text": [
      "train size :\n",
      " [ 35  70 105 141 176 211 247 282 317 353]\n",
      "\n",
      "train score mean:\n",
      " [0.69916485 0.58791609 0.54247841 0.51507294 0.48804425 0.47140087\n",
      " 0.46945423 0.4645876  0.45495661 0.442605  ]\n",
      "\n"
     ]
    },
    {
     "data": {
      "image/png": "[encoded data removed]",
      "text/plain": [
       "<Figure size 432x288 with 1 Axes>"
      ]
     },
     "metadata": {
      "needs_background": "light"
     },
     "output_type": "display_data"
    }
   ],
   "source": [
    "estimator = DecisionTreeRegressor(max_depth = 2 , random_state = 0 ) # Trying the maxdepth = 2\n",
    "draw_learning_curves(X,y,estimator,10)"
   ]
  },
  {
   "cell_type": "code",
   "execution_count": 10,
   "id": "f756b385",
   "metadata": {},
   "outputs": [
    {
     "name": "stdout",
     "output_type": "stream",
     "text": [
      "r2 Score =  0.2703043740015454\n"
     ]
    }
   ],
   "source": [
    "reg1 = DecisionTreeRegressor(max_depth = 2 , random_state = 0)\n",
    "reg1 = reg1.fit(X_train, y_train)\n",
    "y_pred = reg1.predict(X_test)\n",
    "print(\"r2 Score = \",r2_score(y_test, y_pred))"
   ]
  },
  {
   "cell_type": "markdown",
   "id": "57e1ddbc",
   "metadata": {},
   "source": [
    "# K_NN Regressor Model"
   ]
  },
  {
   "cell_type": "code",
   "execution_count": 11,
   "id": "e98aafa6",
   "metadata": {},
   "outputs": [],
   "source": [
    "from sklearn.neighbors import KNeighborsRegressor\n",
    "def fit_model(X, y):\n",
    "    cv_sets = ShuffleSplit(n_splits = 10, test_size = 0.20, random_state = 0)\n",
    "    reg = KNeighborsRegressor()\n",
    "    params = {'n_neighbors' : list(range(1,101))}\n",
    "    scoring_fnc = make_scorer(r2_score)\n",
    "    grid = GridSearchCV(reg, params, scoring = scoring_fnc,cv = cv_sets)\n",
    "    grid = grid.fit(X, y)\n",
    "    return grid.best_estimator_"
   ]
  },
  {
   "cell_type": "code",
   "execution_count": 12,
   "id": "f4f046be",
   "metadata": {},
   "outputs": [
    {
     "name": "stdout",
     "output_type": "stream",
     "text": [
      "Parameter n_neighbors is 18 for the optimal model.\n"
     ]
    }
   ],
   "source": [
    "regressor2 = fit_model(X_train, y_train)\n",
    "print(\"Parameter n_neighbors is {} for the optimal model.\".format(regressor2.get_params()['n_neighbors']))"
   ]
  },
  {
   "cell_type": "markdown",
   "id": "8294cfeb",
   "metadata": {},
   "source": [
    "# K_NN Model using The estimated value from grid search"
   ]
  },
  {
   "cell_type": "code",
   "execution_count": 13,
   "id": "b8f875a1",
   "metadata": {},
   "outputs": [
    {
     "data": {
      "text/plain": [
       "KNeighborsRegressor(n_neighbors=18)"
      ]
     },
     "execution_count": 13,
     "metadata": {},
     "output_type": "execute_result"
    }
   ],
   "source": [
    "reg2= KNeighborsRegressor(n_neighbors=18)\n",
    "reg2.fit(X_train, y_train)"
   ]
  },
  {
   "cell_type": "code",
   "execution_count": 14,
   "id": "c5efd2e0",
   "metadata": {},
   "outputs": [
    {
     "name": "stdout",
     "output_type": "stream",
     "text": [
      "r2 Score =  0.41792902897116346\n"
     ]
    }
   ],
   "source": [
    "y_pred = reg2.predict(X_test)\n",
    "print(\"r2 Score = \",r2_score(y_test, y_pred))"
   ]
  },
  {
   "cell_type": "markdown",
   "id": "964685d1",
   "metadata": {},
   "source": [
    "# Linear Regression Model"
   ]
  },
  {
   "cell_type": "code",
   "execution_count": 15,
   "id": "eadf29c7",
   "metadata": {},
   "outputs": [],
   "source": [
    "from sklearn.linear_model import LinearRegression\n",
    "def fit_model(X, y):\n",
    "    cv_sets = ShuffleSplit(n_splits = 10, test_size = 0.20, random_state = 0)\n",
    "    reg = LinearRegression()\n",
    "    params = {'fit_intercept' : [True,False]}\n",
    "    scoring_fnc = make_scorer(r2_score)\n",
    "    grid = GridSearchCV(reg, params, scoring = scoring_fnc,cv = cv_sets)\n",
    "    grid = grid.fit(X, y)\n",
    "    return grid.best_estimator_"
   ]
  },
  {
   "cell_type": "code",
   "execution_count": 19,
   "id": "4dc34bef",
   "metadata": {},
   "outputs": [
    {
     "name": "stdout",
     "output_type": "stream",
     "text": [
      "Parameters is {'copy_X': True, 'fit_intercept': True, 'n_jobs': None, 'normalize': 'deprecated', 'positive': False} for the optimal model.\n"
     ]
    }
   ],
   "source": [
    "regressor3 = fit_model(X_train, y_train)\n",
    "print(\"Parameters is {} for the optimal model.\".format(regressor3.get_params()))"
   ]
  },
  {
   "cell_type": "code",
   "execution_count": 17,
   "id": "566da744",
   "metadata": {},
   "outputs": [
    {
     "name": "stdout",
     "output_type": "stream",
     "text": [
      "r2 Score =  0.45260660216173787\n"
     ]
    },
    {
     "name": "stderr",
     "output_type": "stream",
     "text": [
      "C:\\Users\\lenovo\\anaconda3\\lib\\site-packages\\sklearn\\linear_model\\_base.py:141: FutureWarning: 'normalize' was deprecated in version 1.0 and will be removed in 1.2.\n",
      "If you wish to scale the data, use Pipeline with a StandardScaler in a preprocessing stage. To reproduce the previous behavior:\n",
      "\n",
      "from sklearn.pipeline import make_pipeline\n",
      "\n",
      "model = make_pipeline(StandardScaler(with_mean=False), LinearRegression())\n",
      "\n",
      "If you wish to pass a sample_weight parameter, you need to pass it as a fit parameter to each step of the pipeline as follows:\n",
      "\n",
      "kwargs = {s[0] + '__sample_weight': sample_weight for s in model.steps}\n",
      "model.fit(X, y, **kwargs)\n",
      "\n",
      "\n",
      "  warnings.warn(\n"
     ]
    }
   ],
   "source": [
    "reg3 = LinearRegression(fit_intercept = True , normalize = True , positive = False)\n",
    "reg3.fit(X_train, y_train)\n",
    "y_pred = reg3.predict(X_test)\n",
    "print(\"r2 Score = \",r2_score(y_test, y_pred))"
   ]
  },
  {
   "cell_type": "markdown",
   "id": "3966448b",
   "metadata": {},
   "source": [
    "# Linear reg Without tuning hyperparameters"
   ]
  },
  {
   "cell_type": "code",
   "execution_count": 18,
   "id": "48bc4b31",
   "metadata": {},
   "outputs": [
    {
     "name": "stdout",
     "output_type": "stream",
     "text": [
      "r2 Score =  0.452606602161738\n"
     ]
    }
   ],
   "source": [
    "reg3 = LinearRegression()\n",
    "reg3.fit(X_train, y_train)\n",
    "y_pred = reg3.predict(X_test)\n",
    "print(\"r2 Score = \",r2_score(y_test, y_pred))"
   ]
  },
  {
   "cell_type": "markdown",
   "id": "808a6cc4",
   "metadata": {},
   "source": [
    "# Linear regression Is the best model"
   ]
  }
 ],
 "metadata": {
  "kernelspec": {
   "display_name": "Python 3 (ipykernel)",
   "language": "python",
   "name": "python3"
  },
  "language_info": {
   "codemirror_mode": {
    "name": "ipython",
    "version": 3
   },
   "file_extension": ".py",
   "mimetype": "text/x-python",
   "name": "python",
   "nbconvert_exporter": "python",
   "pygments_lexer": "ipython3",
   "version": "3.9.12"
  }
 },
 "nbformat": 4,
 "nbformat_minor": 5
}
